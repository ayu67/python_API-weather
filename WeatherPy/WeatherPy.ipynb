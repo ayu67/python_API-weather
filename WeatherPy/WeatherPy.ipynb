{
 "cells": [
  {
   "cell_type": "markdown",
   "metadata": {},
   "source": [
    "# WeatherPy\n",
    "----\n",
    "\n",
    "#### Note\n",
    "* Instructions have been included for each segment. You do not have to follow them exactly, but they are included to help you think through the steps."
   ]
  },
  {
   "cell_type": "code",
   "execution_count": 1,
   "metadata": {
    "scrolled": true
   },
   "outputs": [],
   "source": [
    "# Dependencies and Setup\n",
    "import matplotlib.pyplot as plt\n",
    "import pandas as pd\n",
    "import numpy as np\n",
    "import requests\n",
    "import time\n",
    "from scipy.stats import linregress\n",
    "\n",
    "# Import API key\n",
    "from weather_api import weather_api_key\n",
    "\n",
    "# Incorporated citipy to determine city based on latitude and longitude\n",
    "#!pip install citipy had to install citipy for use\n",
    "from citipy import citipy\n",
    "\n",
    "# Output File (CSV)\n",
    "output_data_file = \"output_data/cities.csv\"\n",
    "\n",
    "# Range of latitudes and longitudes\n",
    "lat_range = (-90, 90)\n",
    "lng_range = (-180, 180)"
   ]
  },
  {
   "cell_type": "markdown",
   "metadata": {},
   "source": [
    "## Generate Cities List"
   ]
  },
  {
   "cell_type": "code",
   "execution_count": 2,
   "metadata": {},
   "outputs": [
    {
     "data": {
      "text/plain": [
       "603"
      ]
     },
     "execution_count": 2,
     "metadata": {},
     "output_type": "execute_result"
    }
   ],
   "source": [
    "# List for holding lat_lngs and cities\n",
    "lat_lngs = []\n",
    "cities = []\n",
    "\n",
    "# Create a set of random lat and lng combinations\n",
    "lats = np.random.uniform(lat_range[0], lat_range[1], size=1500)\n",
    "lngs = np.random.uniform(lng_range[0], lng_range[1], size=1500)\n",
    "lat_lngs = zip(lats, lngs)\n",
    "\n",
    "# Identify nearest city for each lat, lng combination\n",
    "for lat_lng in lat_lngs:\n",
    "    city = citipy.nearest_city(lat_lng[0], lat_lng[1]).city_name\n",
    "    \n",
    "    # If the city is unique, then add it to a our cities list\n",
    "    if city not in cities:\n",
    "        cities.append(city)\n",
    "\n",
    "# Print the city count to confirm sufficient count\n",
    "len(cities)"
   ]
  },
  {
   "cell_type": "markdown",
   "metadata": {},
   "source": [
    "### Perform API Calls\n",
    "* Perform a weather check on each city using a series of successive API calls.\n",
    "* Include a print log of each city as it'sbeing processed (with the city number and city name).\n"
   ]
  },
  {
   "cell_type": "code",
   "execution_count": 3,
   "metadata": {},
   "outputs": [],
   "source": [
    "def getweather(city , units = \"standard\"):\n",
    "    base_url = 'http://api.openweathermap.org/data/2.5/weather?'\n",
    "    query_url = base_url + 'appid=' + weather_api_key + '&units=' + units + '&q=' + city\n",
    "    return requests.get(query_url).json()"
   ]
  },
  {
   "cell_type": "code",
   "execution_count": 4,
   "metadata": {
    "collapsed": true
   },
   "outputs": [
    {
     "data": {
      "text/plain": [
       "{'coord': {'lon': -84.39, 'lat': 33.75},\n",
       " 'weather': [{'id': 803,\n",
       "   'main': 'Clouds',\n",
       "   'description': 'broken clouds',\n",
       "   'icon': '04d'}],\n",
       " 'base': 'stations',\n",
       " 'main': {'temp': 63.19,\n",
       "  'feels_like': 57.11,\n",
       "  'temp_min': 62.6,\n",
       "  'temp_max': 64.99,\n",
       "  'pressure': 1021,\n",
       "  'humidity': 59},\n",
       " 'visibility': 10000,\n",
       " 'wind': {'speed': 10.29, 'deg': 300},\n",
       " 'clouds': {'all': 75},\n",
       " 'dt': 1602868547,\n",
       " 'sys': {'type': 1,\n",
       "  'id': 4155,\n",
       "  'country': 'US',\n",
       "  'sunrise': 1602848606,\n",
       "  'sunset': 1602889333},\n",
       " 'timezone': -14400,\n",
       " 'id': 4180439,\n",
       " 'name': 'Atlanta',\n",
       " 'cod': 200}"
      ]
     },
     "execution_count": 4,
     "metadata": {},
     "output_type": "execute_result"
    }
   ],
   "source": [
    "# testing for an individual city to see what the output is like\n",
    "getweather('atlanta',units='imperial')"
   ]
  },
  {
   "cell_type": "code",
   "execution_count": 45,
   "metadata": {},
   "outputs": [],
   "source": [
    "#create empty lists to append to\n",
    "city_name = []\n",
    "city_lat = []\n",
    "city_lng = []\n",
    "max_temp = []\n",
    "humidity = []\n",
    "cloudiness = []\n",
    "wind_speed = []\n",
    "country = []\n",
    "date = []"
   ]
  },
  {
   "cell_type": "code",
   "execution_count": 46,
   "metadata": {
    "scrolled": true
   },
   "outputs": [
    {
     "name": "stdout",
     "output_type": "stream",
     "text": [
      "Beginning Data Retrieval\n",
      "-----------------------------\n",
      "Processing Record 1 of Set 1 | dharchula\n",
      "Processing Record 1 of Set 1 | ushuaia\n",
      "Processing Record 1 of Set 1 | punta arenas\n",
      "Processing Record 1 of Set 1 | kazalinsk\n",
      "City not found. Skipping...\n",
      "Processing Record 1 of Set 1 | albany\n",
      "Processing Record 1 of Set 1 | bethel\n",
      "Processing Record 1 of Set 1 | busselton\n",
      "Processing Record 1 of Set 1 | puerto ayora\n",
      "Processing Record 1 of Set 1 | touho\n",
      "Processing Record 1 of Set 1 | saint-philippe\n",
      "Processing Record 1 of Set 1 | cherskiy\n",
      "Processing Record 1 of Set 1 | kargil\n",
      "Processing Record 1 of Set 1 | yueyang\n",
      "Processing Record 1 of Set 1 | mataura\n",
      "Processing Record 1 of Set 1 | kawana waters\n",
      "City not found. Skipping...\n",
      "Processing Record 1 of Set 1 | grand baie\n",
      "Processing Record 1 of Set 1 | cape town\n",
      "Processing Record 1 of Set 1 | laguna\n",
      "Processing Record 1 of Set 1 | kudahuvadhoo\n",
      "Processing Record 1 of Set 1 | dingle\n",
      "Processing Record 1 of Set 1 | tamiahua\n",
      "Processing Record 1 of Set 1 | esperance\n",
      "Processing Record 1 of Set 1 | avarua\n",
      "Processing Record 1 of Set 1 | jiwani\n",
      "Processing Record 1 of Set 1 | tunduma\n",
      "Processing Record 1 of Set 1 | rikitea\n",
      "Processing Record 1 of Set 1 | sao joao da barra\n",
      "Processing Record 1 of Set 1 | khatanga\n",
      "Processing Record 1 of Set 1 | oussouye\n",
      "Processing Record 1 of Set 1 | butaritari\n",
      "Processing Record 1 of Set 1 | ponta do sol\n",
      "Processing Record 1 of Set 1 | vila velha\n",
      "Processing Record 1 of Set 1 | arraial do cabo\n",
      "Processing Record 1 of Set 1 | wanning\n",
      "Processing Record 1 of Set 1 | jamestown\n",
      "Processing Record 1 of Set 1 | praia\n",
      "Processing Record 1 of Set 1 | bredasdorp\n",
      "Processing Record 1 of Set 1 | ruatoria\n",
      "City not found. Skipping...\n",
      "Processing Record 1 of Set 1 | aklavik\n",
      "Processing Record 1 of Set 1 | tulum\n",
      "Processing Record 1 of Set 1 | marcona\n",
      "City not found. Skipping...\n",
      "Processing Record 1 of Set 1 | todos santos\n",
      "Processing Record 1 of Set 1 | illoqqortoormiut\n",
      "City not found. Skipping...\n",
      "Processing Record 1 of Set 1 | havre\n",
      "Processing Record 1 of Set 1 | lasa\n",
      "Processing Record 1 of Set 1 | katsuura\n",
      "Processing Record 1 of Set 1 | hithadhoo\n",
      "Processing Record 1 of Set 1 | nerang\n",
      "Processing Record 1 of Set 1 | inongo\n",
      "Processing Record 1 of Set 1 | havre-saint-pierre\n",
      "Processing Record 1 of Set 1 | hermanus\n",
      "Processing Record 1 of Set 1 | manaus\n",
      "Processing Record 1 of Set 1 | avera\n",
      "Processing Record 1 of Set 1 | cidreira\n",
      "Processing Record 1 of Set 1 | hamilton\n",
      "Processing Record 1 of Set 1 | atuona\n",
      "Processing Record 1 of Set 1 | kapaa\n",
      "Processing Record 1 of Set 1 | flinders\n",
      "Processing Record 1 of Set 1 | port blair\n",
      "Processing Record 1 of Set 1 | abu zabad\n",
      "Processing Record 1 of Set 1 | port alfred\n",
      "Processing Record 1 of Set 1 | glendale\n",
      "Processing Record 1 of Set 1 | barrow\n",
      "Processing Record 1 of Set 1 | kodiak\n",
      "Processing Record 1 of Set 1 | carnarvon\n",
      "Processing Record 1 of Set 1 | ochamchira\n",
      "Processing Record 1 of Set 1 | dikson\n",
      "Processing Record 1 of Set 1 | qaanaaq\n",
      "Processing Record 1 of Set 1 | tsagan aman\n",
      "Processing Record 1 of Set 1 | keroka\n",
      "Processing Record 1 of Set 1 | bluff\n",
      "Processing Record 1 of Set 1 | comodoro rivadavia\n",
      "Processing Record 1 of Set 1 | sabang\n",
      "Processing Record 1 of Set 1 | norman wells\n",
      "Processing Record 1 of Set 1 | ancud\n",
      "Processing Record 1 of Set 1 | isangel\n",
      "Processing Record 1 of Set 1 | tumannyy\n",
      "City not found. Skipping...\n",
      "Processing Record 1 of Set 1 | hilo\n",
      "Processing Record 1 of Set 1 | la gomera\n",
      "Processing Record 1 of Set 1 | georgetown\n",
      "Processing Record 1 of Set 1 | taolanaro\n",
      "City not found. Skipping...\n",
      "Processing Record 1 of Set 1 | araouane\n",
      "Processing Record 1 of Set 1 | halifax\n",
      "Processing Record 1 of Set 1 | vaini\n",
      "Processing Record 1 of Set 1 | praia da vitoria\n",
      "Processing Record 1 of Set 1 | hay river\n",
      "Processing Record 1 of Set 1 | samana\n",
      "Processing Record 1 of Set 1 | jackson\n",
      "Processing Record 1 of Set 1 | klaksvik\n",
      "Processing Record 1 of Set 1 | harlingen\n",
      "Processing Record 1 of Set 1 | clyde river\n",
      "Processing Record 1 of Set 1 | garowe\n",
      "Processing Record 1 of Set 1 | kyenjojo\n",
      "Processing Record 1 of Set 1 | marovoay\n",
      "Processing Record 1 of Set 1 | adilabad\n",
      "Processing Record 1 of Set 1 | hobart\n",
      "Processing Record 1 of Set 1 | iqaluit\n",
      "Processing Record 1 of Set 1 | tasiilaq\n",
      "Processing Record 1 of Set 1 | ilulissat\n",
      "Processing Record 1 of Set 1 | mpanda\n",
      "Processing Record 1 of Set 1 | waddan\n",
      "Processing Record 1 of Set 1 | qostanay\n",
      "Processing Record 1 of Set 1 | galesong\n",
      "Processing Record 1 of Set 1 | saldanha\n",
      "Processing Record 1 of Set 1 | berlevag\n",
      "Processing Record 1 of Set 1 | nago\n",
      "Processing Record 1 of Set 1 | soe\n",
      "Processing Record 1 of Set 1 | lebu\n",
      "Processing Record 1 of Set 1 | mount gambier\n",
      "Processing Record 1 of Set 1 | provideniya\n",
      "Processing Record 1 of Set 1 | presidencia roque saenz pena\n",
      "Processing Record 1 of Set 1 | bara\n",
      "Processing Record 1 of Set 1 | sijunjung\n",
      "Processing Record 1 of Set 1 | tautira\n",
      "Processing Record 1 of Set 1 | cumberland\n",
      "Processing Record 1 of Set 1 | vila franca do campo\n",
      "Processing Record 1 of Set 1 | brownwood\n",
      "Processing Record 1 of Set 1 | tuatapere\n",
      "Processing Record 1 of Set 1 | gat\n",
      "Processing Record 1 of Set 1 | sambava\n",
      "Processing Record 1 of Set 1 | camacha\n",
      "Processing Record 1 of Set 1 | natal\n",
      "Processing Record 1 of Set 1 | pevek\n",
      "Processing Record 1 of Set 1 | yulara\n",
      "Processing Record 1 of Set 1 | luan\n",
      "Processing Record 1 of Set 1 | tuy hoa\n",
      "Processing Record 1 of Set 1 | dakar\n",
      "Processing Record 1 of Set 1 | yola\n",
      "Processing Record 1 of Set 1 | puerto ayacucho\n",
      "Processing Record 1 of Set 1 | leningradskiy\n",
      "Processing Record 1 of Set 1 | takoradi\n",
      "Processing Record 1 of Set 1 | siilinjarvi\n",
      "Processing Record 1 of Set 1 | oranjemund\n",
      "Processing Record 1 of Set 1 | listvyanskiy\n",
      "Processing Record 1 of Set 1 | aiquile\n",
      "Processing Record 1 of Set 1 | yellowknife\n",
      "Processing Record 1 of Set 1 | ribeira grande\n",
      "Processing Record 1 of Set 1 | porto novo\n",
      "Processing Record 1 of Set 1 | souillac\n",
      "Processing Record 1 of Set 1 | cam ranh\n",
      "Processing Record 1 of Set 1 | dobryanka\n",
      "Processing Record 1 of Set 1 | kandrian\n",
      "Processing Record 1 of Set 1 | lavumisa\n",
      "Processing Record 1 of Set 1 | paamiut\n",
      "Processing Record 1 of Set 1 | wanaka\n",
      "Processing Record 1 of Set 1 | port elizabeth\n",
      "Processing Record 1 of Set 1 | faya\n",
      "Processing Record 1 of Set 1 | beringovskiy\n",
      "Processing Record 1 of Set 1 | belushya guba\n",
      "City not found. Skipping...\n",
      "Processing Record 1 of Set 1 | severo-kurilsk\n",
      "Processing Record 1 of Set 1 | broome\n",
      "Processing Record 1 of Set 1 | pangkalanbuun\n",
      "Processing Record 1 of Set 1 | cururupu\n",
      "Processing Record 1 of Set 1 | tsumeb\n",
      "Processing Record 1 of Set 1 | barentsburg\n",
      "City not found. Skipping...\n",
      "Processing Record 1 of Set 1 | namibe\n",
      "Processing Record 1 of Set 1 | chuy\n",
      "Processing Record 1 of Set 1 | lompoc\n",
      "Processing Record 1 of Set 1 | byron bay\n",
      "Processing Record 1 of Set 1 | henties bay\n",
      "Processing Record 1 of Set 1 | abu kamal\n",
      "Processing Record 1 of Set 1 | buraydah\n",
      "Processing Record 1 of Set 1 | fortuna\n",
      "Processing Record 1 of Set 1 | yumen\n",
      "Processing Record 1 of Set 1 | chibombo\n",
      "Processing Record 1 of Set 1 | porbandar\n",
      "Processing Record 1 of Set 1 | nikolskoye\n",
      "Processing Record 1 of Set 1 | suixi\n",
      "Processing Record 1 of Set 1 | labutta\n",
      "City not found. Skipping...\n",
      "Processing Record 1 of Set 1 | sungai besar\n",
      "Processing Record 1 of Set 1 | coquimbo\n",
      "Processing Record 1 of Set 1 | mahebourg\n",
      "Processing Record 1 of Set 1 | chimbarongo\n",
      "Processing Record 1 of Set 1 | stornoway\n",
      "Processing Record 1 of Set 1 | guerrero negro\n",
      "Processing Record 1 of Set 1 | maragogi\n",
      "Processing Record 1 of Set 1 | oga\n",
      "Processing Record 1 of Set 1 | atambua\n",
      "Processing Record 1 of Set 1 | mar del plata\n",
      "Processing Record 1 of Set 1 | bandar-e lengeh\n",
      "Processing Record 1 of Set 1 | san rafael\n",
      "Processing Record 1 of Set 1 | andenes\n",
      "Processing Record 1 of Set 1 | santo domingo\n",
      "Processing Record 1 of Set 1 | marsh harbour\n",
      "Processing Record 1 of Set 1 | longyearbyen\n",
      "Processing Record 1 of Set 1 | novikovo\n",
      "Processing Record 1 of Set 1 | maniitsoq\n",
      "Processing Record 1 of Set 1 | nanortalik\n",
      "Processing Record 1 of Set 1 | pringsewu\n",
      "Processing Record 1 of Set 1 | ahipara\n",
      "Processing Record 1 of Set 1 | kathu\n",
      "Processing Record 1 of Set 1 | new norfolk\n",
      "Processing Record 1 of Set 1 | akividu\n",
      "Processing Record 1 of Set 1 | shahrud\n",
      "Processing Record 1 of Set 1 | grand river south east\n"
     ]
    },
    {
     "name": "stdout",
     "output_type": "stream",
     "text": [
      "City not found. Skipping...\n",
      "Processing Record 1 of Set 1 | waipawa\n",
      "Processing Record 1 of Set 1 | barawe\n",
      "City not found. Skipping...\n",
      "Processing Record 1 of Set 1 | necochea\n",
      "Processing Record 1 of Set 1 | kumluca\n",
      "Processing Record 1 of Set 1 | katwa\n",
      "Processing Record 1 of Set 1 | batagay-alyta\n",
      "Processing Record 1 of Set 1 | attawapiskat\n",
      "City not found. Skipping...\n",
      "Processing Record 1 of Set 1 | taltal\n",
      "Processing Record 1 of Set 1 | estelle\n",
      "Processing Record 1 of Set 1 | kaitangata\n",
      "Processing Record 1 of Set 1 | novopskov\n",
      "Processing Record 1 of Set 1 | faanui\n",
      "Processing Record 1 of Set 1 | peravurani\n",
      "Processing Record 1 of Set 1 | cayenne\n",
      "Processing Record 1 of Set 1 | mocambique\n",
      "City not found. Skipping...\n",
      "Processing Record 1 of Set 1 | weyburn\n",
      "Processing Record 1 of Set 1 | tuktoyaktuk\n",
      "Processing Record 1 of Set 1 | sao filipe\n",
      "Processing Record 1 of Set 1 | jijiang\n",
      "Processing Record 1 of Set 1 | east london\n",
      "Processing Record 1 of Set 1 | kuche\n",
      "City not found. Skipping...\n",
      "Processing Record 1 of Set 1 | buqayq\n",
      "City not found. Skipping...\n",
      "Processing Record 1 of Set 1 | tecpan\n",
      "Processing Record 1 of Set 1 | agirish\n",
      "Processing Record 1 of Set 1 | urzhum\n",
      "Processing Record 1 of Set 1 | meulaboh\n",
      "Processing Record 1 of Set 1 | airai\n",
      "Processing Record 1 of Set 1 | lavrentiya\n",
      "Processing Record 1 of Set 1 | verkhnevilyuysk\n",
      "Processing Record 1 of Set 1 | bendigo\n",
      "Processing Record 1 of Set 1 | tianpeng\n",
      "Processing Record 1 of Set 1 | sao desiderio\n",
      "Processing Record 1 of Set 1 | bambous virieux\n",
      "Processing Record 1 of Set 1 | tsihombe\n",
      "City not found. Skipping...\n",
      "Processing Record 1 of Set 1 | shelburne\n",
      "Processing Record 1 of Set 1 | oakdale\n",
      "Processing Record 1 of Set 1 | port macquarie\n",
      "Processing Record 1 of Set 1 | vanimo\n",
      "Processing Record 1 of Set 1 | meybod\n",
      "Processing Record 1 of Set 1 | saint-michel-des-saints\n",
      "Processing Record 1 of Set 1 | caohe\n",
      "Processing Record 1 of Set 1 | kulhudhuffushi\n",
      "Processing Record 1 of Set 1 | victoria\n",
      "Processing Record 1 of Set 1 | ahuimanu\n",
      "Processing Record 1 of Set 1 | bur gabo\n",
      "City not found. Skipping...\n",
      "Processing Record 1 of Set 1 | sakyla\n",
      "Processing Record 1 of Set 1 | san jose de guanipa\n",
      "Processing Record 1 of Set 1 | jumla\n",
      "Processing Record 1 of Set 1 | grand gaube\n",
      "Processing Record 1 of Set 1 | magway\n",
      "Processing Record 1 of Set 1 | mishkino\n",
      "Processing Record 1 of Set 1 | pitmoaga\n",
      "Processing Record 1 of Set 1 | azrow\n",
      "City not found. Skipping...\n",
      "Processing Record 1 of Set 1 | pacific grove\n",
      "Processing Record 1 of Set 1 | svencionys\n",
      "Processing Record 1 of Set 1 | nishihara\n",
      "Processing Record 1 of Set 1 | sinnamary\n",
      "Processing Record 1 of Set 1 | vaitupu\n",
      "City not found. Skipping...\n",
      "Processing Record 1 of Set 1 | fez\n",
      "Processing Record 1 of Set 1 | gravdal\n",
      "Processing Record 1 of Set 1 | saint-leu\n",
      "Processing Record 1 of Set 1 | samalaeulu\n",
      "City not found. Skipping...\n",
      "Processing Record 1 of Set 1 | matara\n",
      "Processing Record 1 of Set 1 | aquidauana\n",
      "Processing Record 1 of Set 1 | roquebrune-cap-martin\n",
      "Processing Record 1 of Set 1 | tepoztlan\n",
      "Processing Record 1 of Set 1 | tarnos\n",
      "Processing Record 1 of Set 1 | kaoma\n",
      "Processing Record 1 of Set 1 | ambilobe\n",
      "Processing Record 1 of Set 1 | flin flon\n",
      "Processing Record 1 of Set 1 | alta floresta\n",
      "Processing Record 1 of Set 1 | buzmeyin\n",
      "Processing Record 1 of Set 1 | narsaq\n",
      "Processing Record 1 of Set 1 | port lincoln\n",
      "Processing Record 1 of Set 1 | eyl\n",
      "Processing Record 1 of Set 1 | yar-sale\n",
      "Processing Record 1 of Set 1 | thompson\n",
      "Processing Record 1 of Set 1 | zeya\n",
      "Processing Record 1 of Set 1 | amderma\n",
      "City not found. Skipping...\n",
      "Processing Record 1 of Set 1 | okoneshnikovo\n",
      "Processing Record 1 of Set 1 | kirakira\n",
      "Processing Record 1 of Set 1 | college\n",
      "Processing Record 1 of Set 1 | mandurah\n",
      "Processing Record 1 of Set 1 | pisco\n",
      "Processing Record 1 of Set 1 | alofi\n",
      "Processing Record 1 of Set 1 | kosonsoy\n",
      "Processing Record 1 of Set 1 | port hardy\n",
      "Processing Record 1 of Set 1 | harrisonburg\n",
      "Processing Record 1 of Set 1 | sitka\n",
      "Processing Record 1 of Set 1 | palabuhanratu\n",
      "City not found. Skipping...\n",
      "Processing Record 1 of Set 1 | utete\n",
      "Processing Record 1 of Set 1 | planadas\n",
      "Processing Record 1 of Set 1 | mnogovershinnyy\n",
      "Processing Record 1 of Set 1 | kaeo\n",
      "Processing Record 1 of Set 1 | gurupa\n",
      "Processing Record 1 of Set 1 | sesheke\n",
      "Processing Record 1 of Set 1 | salalah\n",
      "Processing Record 1 of Set 1 | valparai\n",
      "Processing Record 1 of Set 1 | samusu\n",
      "City not found. Skipping...\n",
      "Processing Record 1 of Set 1 | lolua\n",
      "City not found. Skipping...\n",
      "Processing Record 1 of Set 1 | sentyabrskiy\n",
      "City not found. Skipping...\n",
      "Processing Record 1 of Set 1 | chateau-thierry\n",
      "Processing Record 1 of Set 1 | san juan\n",
      "Processing Record 1 of Set 1 | ulladulla\n",
      "Processing Record 1 of Set 1 | bathsheba\n",
      "Processing Record 1 of Set 1 | puerto narino\n",
      "Processing Record 1 of Set 1 | manzhouli\n",
      "Processing Record 1 of Set 1 | boa vista\n",
      "Processing Record 1 of Set 1 | bodden town\n",
      "Processing Record 1 of Set 1 | saskylakh\n",
      "Processing Record 1 of Set 1 | mindelo\n",
      "Processing Record 1 of Set 1 | constitucion\n",
      "Processing Record 1 of Set 1 | takaka\n",
      "Processing Record 1 of Set 1 | brisbane\n",
      "Processing Record 1 of Set 1 | maebaru\n",
      "Processing Record 1 of Set 1 | ngama\n",
      "Processing Record 1 of Set 1 | chiredzi\n",
      "Processing Record 1 of Set 1 | asfi\n",
      "Processing Record 1 of Set 1 | upernavik\n",
      "Processing Record 1 of Set 1 | zhigansk\n",
      "Processing Record 1 of Set 1 | hasaki\n",
      "Processing Record 1 of Set 1 | palu\n",
      "Processing Record 1 of Set 1 | babanusah\n",
      "City not found. Skipping...\n",
      "Processing Record 1 of Set 1 | giresun\n",
      "Processing Record 1 of Set 1 | calatagan\n",
      "Processing Record 1 of Set 1 | powell river\n",
      "Processing Record 1 of Set 1 | lilongwe\n",
      "Processing Record 1 of Set 1 | whitianga\n",
      "Processing Record 1 of Set 1 | karamea\n",
      "City not found. Skipping...\n",
      "Processing Record 1 of Set 1 | nizhneyansk\n",
      "City not found. Skipping...\n",
      "Processing Record 1 of Set 1 | tiksi\n",
      "Processing Record 1 of Set 1 | buariki\n",
      "City not found. Skipping...\n",
      "Processing Record 1 of Set 1 | glenwood springs\n",
      "Processing Record 1 of Set 1 | brusque\n",
      "Processing Record 1 of Set 1 | yerbogachen\n",
      "Processing Record 1 of Set 1 | honiara\n",
      "Processing Record 1 of Set 1 | sept-iles\n",
      "Processing Record 1 of Set 1 | sturgis\n",
      "Processing Record 1 of Set 1 | tucuman\n",
      "Processing Record 1 of Set 1 | chernyshevskiy\n",
      "Processing Record 1 of Set 1 | santa isabel do rio negro\n",
      "Processing Record 1 of Set 1 | grand-lahou\n",
      "Processing Record 1 of Set 1 | greeley\n",
      "Processing Record 1 of Set 1 | mackenzie\n",
      "Processing Record 1 of Set 1 | joensuu\n",
      "Processing Record 1 of Set 1 | jiuquan\n",
      "Processing Record 1 of Set 1 | khonuu\n",
      "City not found. Skipping...\n",
      "Processing Record 1 of Set 1 | matamoros\n",
      "Processing Record 1 of Set 1 | yenotayevka\n",
      "Processing Record 1 of Set 1 | sisimiut\n",
      "Processing Record 1 of Set 1 | kadykchan\n",
      "City not found. Skipping...\n",
      "Processing Record 1 of Set 1 | porto torres\n",
      "Processing Record 1 of Set 1 | maceio\n",
      "Processing Record 1 of Set 1 | cockburn town\n",
      "Processing Record 1 of Set 1 | benalla\n",
      "Processing Record 1 of Set 1 | taloy\n",
      "Processing Record 1 of Set 1 | matagami\n",
      "Processing Record 1 of Set 1 | ravar\n",
      "Processing Record 1 of Set 1 | nanma\n",
      "Processing Record 1 of Set 1 | poum\n",
      "Processing Record 1 of Set 1 | evensk\n",
      "Processing Record 1 of Set 1 | kofele\n",
      "Processing Record 1 of Set 1 | mitsamiouli\n",
      "Processing Record 1 of Set 1 | chokurdakh\n",
      "Processing Record 1 of Set 1 | aksarka\n",
      "Processing Record 1 of Set 1 | solnechnyy\n",
      "Processing Record 1 of Set 1 | budogoshch\n",
      "Processing Record 1 of Set 1 | lagoa\n",
      "Processing Record 1 of Set 1 | santa rosa\n",
      "Processing Record 1 of Set 1 | parlakimidi\n",
      "Processing Record 1 of Set 1 | san bartolome de tirajana\n",
      "Processing Record 1 of Set 1 | farafangana\n",
      "Processing Record 1 of Set 1 | daru\n",
      "Processing Record 1 of Set 1 | kushima\n",
      "Processing Record 1 of Set 1 | torbay\n",
      "Processing Record 1 of Set 1 | grindavik\n",
      "Processing Record 1 of Set 1 | pemba\n",
      "Processing Record 1 of Set 1 | mbaiki\n",
      "Processing Record 1 of Set 1 | mikhaylovskoye\n",
      "Processing Record 1 of Set 1 | bilibino\n",
      "Processing Record 1 of Set 1 | nefteyugansk\n",
      "Processing Record 1 of Set 1 | yaan\n",
      "Processing Record 1 of Set 1 | champerico\n",
      "Processing Record 1 of Set 1 | asheboro\n",
      "Processing Record 1 of Set 1 | dubbo\n",
      "Processing Record 1 of Set 1 | olinda\n",
      "Processing Record 1 of Set 1 | havelock\n",
      "Processing Record 1 of Set 1 | wum\n"
     ]
    },
    {
     "name": "stdout",
     "output_type": "stream",
     "text": [
      "Processing Record 1 of Set 1 | thayetmyo\n",
      "Processing Record 1 of Set 1 | male\n",
      "Processing Record 1 of Set 1 | anadyr\n",
      "Processing Record 1 of Set 1 | haizhou\n",
      "Processing Record 1 of Set 1 | vyshhorod\n",
      "Processing Record 1 of Set 1 | amahai\n",
      "Processing Record 1 of Set 1 | pingliang\n",
      "Processing Record 1 of Set 1 | sao jose da coroa grande\n",
      "Processing Record 1 of Set 1 | korla\n",
      "Processing Record 1 of Set 1 | bengkulu\n",
      "Processing Record 1 of Set 1 | husavik\n",
      "Processing Record 1 of Set 1 | kangaatsiaq\n",
      "Processing Record 1 of Set 1 | colonial heights\n",
      "Processing Record 1 of Set 1 | diamantina\n",
      "Processing Record 1 of Set 1 | castro\n",
      "Processing Record 1 of Set 1 | kedougou\n",
      "Processing Record 1 of Set 1 | lom\n",
      "Processing Record 1 of Set 1 | mayumba\n",
      "Processing Record 1 of Set 1 | ginir\n",
      "Processing Record 1 of Set 1 | mullaitivu\n",
      "City not found. Skipping...\n",
      "Processing Record 1 of Set 1 | ho\n",
      "City not found. Skipping...\n",
      "Processing Record 1 of Set 1 | lorengau\n",
      "Processing Record 1 of Set 1 | umzimvubu\n",
      "City not found. Skipping...\n",
      "Processing Record 1 of Set 1 | nizhnyaya poyma\n",
      "Processing Record 1 of Set 1 | itoman\n",
      "Processing Record 1 of Set 1 | nyurba\n",
      "Processing Record 1 of Set 1 | bubaque\n",
      "Processing Record 1 of Set 1 | taoudenni\n",
      "Processing Record 1 of Set 1 | blagoyevo\n",
      "Processing Record 1 of Set 1 | inhambane\n",
      "Processing Record 1 of Set 1 | auki\n",
      "Processing Record 1 of Set 1 | harper\n",
      "Processing Record 1 of Set 1 | svetlaya\n",
      "Processing Record 1 of Set 1 | ust-barguzin\n",
      "Processing Record 1 of Set 1 | hokitika\n",
      "Processing Record 1 of Set 1 | nampula\n",
      "Processing Record 1 of Set 1 | tazovskiy\n",
      "Processing Record 1 of Set 1 | vila do maio\n",
      "Processing Record 1 of Set 1 | vonnu\n",
      "City not found. Skipping...\n",
      "Processing Record 1 of Set 1 | san bernardo\n",
      "Processing Record 1 of Set 1 | tutoia\n",
      "Processing Record 1 of Set 1 | mandalgovi\n",
      "Processing Record 1 of Set 1 | uyar\n",
      "Processing Record 1 of Set 1 | bac lieu\n",
      "Processing Record 1 of Set 1 | dhidhdhoo\n",
      "Processing Record 1 of Set 1 | guadalupe y calvo\n",
      "Processing Record 1 of Set 1 | west fargo\n",
      "Processing Record 1 of Set 1 | mehamn\n",
      "Processing Record 1 of Set 1 | manadhoo\n",
      "Processing Record 1 of Set 1 | bagdarin\n",
      "Processing Record 1 of Set 1 | nabire\n",
      "Processing Record 1 of Set 1 | puerto madryn\n",
      "Processing Record 1 of Set 1 | okha\n",
      "Processing Record 1 of Set 1 | crab hill\n",
      "City not found. Skipping...\n",
      "Processing Record 1 of Set 1 | arlit\n",
      "Processing Record 1 of Set 1 | dois vizinhos\n",
      "Processing Record 1 of Set 1 | lata\n",
      "Processing Record 1 of Set 1 | batouri\n",
      "Processing Record 1 of Set 1 | azare\n",
      "Processing Record 1 of Set 1 | hurghada\n",
      "Processing Record 1 of Set 1 | sioux lookout\n",
      "Processing Record 1 of Set 1 | sola\n",
      "Processing Record 1 of Set 1 | jalu\n",
      "Processing Record 1 of Set 1 | the valley\n",
      "Processing Record 1 of Set 1 | mahajanga\n",
      "Processing Record 1 of Set 1 | iquique\n",
      "Processing Record 1 of Set 1 | broken hill\n",
      "Processing Record 1 of Set 1 | halalo\n",
      "City not found. Skipping...\n",
      "Processing Record 1 of Set 1 | aripuana\n",
      "Processing Record 1 of Set 1 | chara\n",
      "Processing Record 1 of Set 1 | jabiru\n",
      "City not found. Skipping...\n",
      "Processing Record 1 of Set 1 | codrington\n",
      "Processing Record 1 of Set 1 | burica\n",
      "City not found. Skipping...\n",
      "Processing Record 1 of Set 1 | astara\n",
      "Processing Record 1 of Set 1 | kutum\n",
      "Processing Record 1 of Set 1 | mys shmidta\n",
      "City not found. Skipping...\n",
      "Processing Record 1 of Set 1 | kamenka\n",
      "Processing Record 1 of Set 1 | vostok\n",
      "Processing Record 1 of Set 1 | gilgit\n",
      "Processing Record 1 of Set 1 | dongsheng\n",
      "Processing Record 1 of Set 1 | tual\n",
      "Processing Record 1 of Set 1 | phan rang\n",
      "City not found. Skipping...\n",
      "Processing Record 1 of Set 1 | tahta\n",
      "Processing Record 1 of Set 1 | monastyrshchina\n",
      "Processing Record 1 of Set 1 | frejus\n",
      "Processing Record 1 of Set 1 | ludinghausen\n",
      "Processing Record 1 of Set 1 | nome\n",
      "Processing Record 1 of Set 1 | santiago de cao\n",
      "Processing Record 1 of Set 1 | angra\n",
      "City not found. Skipping...\n",
      "Processing Record 1 of Set 1 | prainha\n",
      "Processing Record 1 of Set 1 | ucluelet\n",
      "Processing Record 1 of Set 1 | saint george\n",
      "Processing Record 1 of Set 1 | caucaia\n",
      "Processing Record 1 of Set 1 | karratha\n",
      "Processing Record 1 of Set 1 | zvenigovo\n",
      "Processing Record 1 of Set 1 | wucheng\n",
      "Processing Record 1 of Set 1 | malanje\n",
      "Processing Record 1 of Set 1 | san cristobal\n",
      "Processing Record 1 of Set 1 | tura\n",
      "Processing Record 1 of Set 1 | serowe\n",
      "Processing Record 1 of Set 1 | corinto\n",
      "Processing Record 1 of Set 1 | ndele\n",
      "Processing Record 1 of Set 1 | srednekolymsk\n",
      "Processing Record 1 of Set 1 | ulaangom\n",
      "Processing Record 1 of Set 1 | taywarah\n",
      "Processing Record 1 of Set 1 | golden\n",
      "Processing Record 1 of Set 1 | kinablangan\n",
      "Processing Record 1 of Set 1 | riyadh\n",
      "Processing Record 1 of Set 1 | suntar\n",
      "Processing Record 1 of Set 1 | chatsu\n",
      "City not found. Skipping...\n",
      "Processing Record 1 of Set 1 | sao felix do xingu\n",
      "Processing Record 1 of Set 1 | palmer\n",
      "Processing Record 1 of Set 1 | kamenskoye\n",
      "City not found. Skipping...\n",
      "Processing Record 1 of Set 1 | esna\n",
      "Processing Record 1 of Set 1 | santarem\n",
      "Processing Record 1 of Set 1 | porto santo\n",
      "Processing Record 1 of Set 1 | santiago del estero\n",
      "Processing Record 1 of Set 1 | san quintin\n",
      "Processing Record 1 of Set 1 | san vicente\n",
      "Processing Record 1 of Set 1 | beni\n",
      "Processing Record 1 of Set 1 | kavieng\n",
      "Processing Record 1 of Set 1 | pimentel\n",
      "Processing Record 1 of Set 1 | adrar\n",
      "Processing Record 1 of Set 1 | pitsunda\n",
      "Processing Record 1 of Set 1 | esmeralda\n",
      "Processing Record 1 of Set 1 | antofagasta\n",
      "Processing Record 1 of Set 1 | yinchuan\n",
      "Processing Record 1 of Set 1 | auburn\n",
      "Processing Record 1 of Set 1 | geraldton\n",
      "Processing Record 1 of Set 1 | tarudant\n",
      "City not found. Skipping...\n",
      "Processing Record 1 of Set 1 | big rapids\n",
      "Processing Record 1 of Set 1 | sulzbach-rosenberg\n",
      "Processing Record 1 of Set 1 | aflu\n",
      "City not found. Skipping...\n",
      "Processing Record 1 of Set 1 | tongling\n",
      "Processing Record 1 of Set 1 | toliary\n",
      "City not found. Skipping...\n",
      "Processing Record 1 of Set 1 | luohe\n",
      "Processing Record 1 of Set 1 | san patricio\n",
      "Processing Record 1 of Set 1 | bud\n",
      "Processing Record 1 of Set 1 | aleppo\n",
      "Processing Record 1 of Set 1 | didwana\n",
      "Processing Record 1 of Set 1 | piacabucu\n",
      "Processing Record 1 of Set 1 | vagay\n",
      "Processing Record 1 of Set 1 | el balyana\n",
      "City not found. Skipping...\n",
      "Processing Record 1 of Set 1 | puteyets\n",
      "Processing Record 1 of Set 1 | morant bay\n",
      "Processing Record 1 of Set 1 | santa isabel\n",
      "Processing Record 1 of Set 1 | itarema\n",
      "Processing Record 1 of Set 1 | road town\n",
      "Processing Record 1 of Set 1 | avallon\n",
      "Processing Record 1 of Set 1 | bolungarvik\n",
      "City not found. Skipping...\n",
      "Processing Record 1 of Set 1 | port moresby\n",
      "Processing Record 1 of Set 1 | louisbourg\n",
      "City not found. Skipping...\n",
      "Processing Record 1 of Set 1 | tiruvannamalai\n",
      "Processing Record 1 of Set 1 | thinadhoo\n",
      "Processing Record 1 of Set 1 | utica\n",
      "Processing Record 1 of Set 1 | iquitos\n",
      "Processing Record 1 of Set 1 | windsor\n",
      "Processing Record 1 of Set 1 | banfora\n",
      "Processing Record 1 of Set 1 | kieta\n",
      "Processing Record 1 of Set 1 | biak\n",
      "Processing Record 1 of Set 1 | kruisfontein\n",
      "Processing Record 1 of Set 1 | loandjili\n",
      "Processing Record 1 of Set 1 | conakry\n",
      "Processing Record 1 of Set 1 | talnakh\n",
      "Processing Record 1 of Set 1 | price\n",
      "Processing Record 1 of Set 1 | nayoro\n",
      "Processing Record 1 of Set 1 | sataua\n",
      "City not found. Skipping...\n",
      "Processing Record 1 of Set 1 | bambanglipuro\n",
      "Processing Record 1 of Set 1 | krasnoselkup\n",
      "Processing Record 1 of Set 1 | van buren\n",
      "Processing Record 1 of Set 1 | maiduguri\n",
      "Processing Record 1 of Set 1 | bar harbor\n",
      "Processing Record 1 of Set 1 | bhopal\n",
      "Processing Record 1 of Set 1 | teguldet\n",
      "Processing Record 1 of Set 1 | ironton\n",
      "Processing Record 1 of Set 1 | azar shahr\n",
      "City not found. Skipping...\n",
      "Processing Record 1 of Set 1 | dandong\n",
      "Processing Record 1 of Set 1 | baboua\n",
      "City not found. Skipping...\n",
      "Processing Record 1 of Set 1 | koygorodok\n",
      "Processing Record 1 of Set 1 | bay roberts\n",
      "Processing Record 1 of Set 1 | maldonado\n",
      "Processing Record 1 of Set 1 | belgrade\n",
      "Processing Record 1 of Set 1 | busilac\n",
      "Processing Record 1 of Set 1 | olyka\n",
      "Processing Record 1 of Set 1 | kyra\n",
      "Processing Record 1 of Set 1 | alvorada\n",
      "Processing Record 1 of Set 1 | panzhihua\n",
      "Processing Record 1 of Set 1 | folldal\n",
      "Processing Record 1 of Set 1 | weihe\n"
     ]
    },
    {
     "name": "stdout",
     "output_type": "stream",
     "text": [
      "Processing Record 1 of Set 1 | flagstaff\n",
      "Processing Record 1 of Set 1 | west wendover\n",
      "Processing Record 1 of Set 1 | tignere\n",
      "Processing Record 1 of Set 1 | shingu\n",
      "Processing Record 1 of Set 1 | zlobin\n",
      "Processing Record 1 of Set 1 | padang\n",
      "Processing Record 1 of Set 1 | nemuro\n",
      "Processing Record 1 of Set 1 | visnes\n",
      "Processing Record 1 of Set 1 | adana\n",
      "Processing Record 1 of Set 1 | luderitz\n",
      "Processing Record 1 of Set 1 | jiddah\n",
      "City not found. Skipping...\n",
      "Processing Record 1 of Set 1 | hope\n",
      "Processing Record 1 of Set 1 | kahului\n",
      "Processing Record 1 of Set 1 | eyrarbakki\n",
      "Processing Record 1 of Set 1 | mount isa\n",
      "Processing Record 1 of Set 1 | luanda\n",
      "Processing Record 1 of Set 1 | pizhanka\n",
      "Processing Record 1 of Set 1 | bridlington\n",
      "Processing Record 1 of Set 1 | villazon\n",
      "Processing Record 1 of Set 1 | deputatskiy\n",
      "Processing Record 1 of Set 1 | utiroa\n",
      "City not found. Skipping...\n",
      "Processing Record 1 of Set 1 | lovozero\n",
      "Processing Record 1 of Set 1 | haapu\n",
      "City not found. Skipping...\n",
      "Processing Record 1 of Set 1 | bonito\n",
      "Processing Record 1 of Set 1 | silyanah\n",
      "City not found. Skipping...\n",
      "Processing Record 1 of Set 1 | san javier\n",
      "Processing Record 1 of Set 1 | borogontsy\n",
      "Processing Record 1 of Set 1 | neuss\n",
      "Processing Record 1 of Set 1 | nawada\n",
      "Processing Record 1 of Set 1 | ipinda\n",
      "Processing Record 1 of Set 1 | abu jubayhah\n",
      "City not found. Skipping...\n"
     ]
    }
   ],
   "source": [
    "print('Beginning Data Retrieval')\n",
    "print('-----------------------------')\n",
    "for city in cities:\n",
    "    print(f'Processing Record 1 of Set 1 | {city}')\n",
    "    try:\n",
    "        weather_data = getweather(city,units='imperial')\n",
    "        city_name.append(weather_data['name'])\n",
    "        city_lat.append(weather_data['coord']['lat'])\n",
    "        city_lng.append(weather_data['coord']['lon'])\n",
    "        max_temp.append(weather_data['main']['temp_max'])\n",
    "        humidity.append(weather_data['main']['humidity'])\n",
    "        cloudiness.append(weather_data['clouds']['all'])\n",
    "        wind_speed.append(weather_data['wind']['speed'])\n",
    "        country.append(weather_data['sys']['country'])\n",
    "        date.append(weather_data['dt'])\n",
    "    except:\n",
    "        print(f'City not found. Skipping...')"
   ]
  },
  {
   "cell_type": "code",
   "execution_count": 47,
   "metadata": {},
   "outputs": [
    {
     "data": {
      "text/plain": [
       "544"
      ]
     },
     "execution_count": 47,
     "metadata": {},
     "output_type": "execute_result"
    }
   ],
   "source": [
    "len(city_name)"
   ]
  },
  {
   "cell_type": "markdown",
   "metadata": {},
   "source": [
    "### Convert Raw Data to DataFrame\n",
    "* Export the city data into a .csv.\n",
    "* Display the DataFrame"
   ]
  },
  {
   "cell_type": "code",
   "execution_count": 49,
   "metadata": {},
   "outputs": [
    {
     "data": {
      "text/html": [
       "<div>\n",
       "<style scoped>\n",
       "    .dataframe tbody tr th:only-of-type {\n",
       "        vertical-align: middle;\n",
       "    }\n",
       "\n",
       "    .dataframe tbody tr th {\n",
       "        vertical-align: top;\n",
       "    }\n",
       "\n",
       "    .dataframe thead th {\n",
       "        text-align: right;\n",
       "    }\n",
       "</style>\n",
       "<table border=\"1\" class=\"dataframe\">\n",
       "  <thead>\n",
       "    <tr style=\"text-align: right;\">\n",
       "      <th></th>\n",
       "      <th>City</th>\n",
       "      <th>Lat</th>\n",
       "      <th>Lng</th>\n",
       "      <th>Max Temp</th>\n",
       "      <th>Humidity</th>\n",
       "      <th>Cloudiness</th>\n",
       "      <th>Wind Speed</th>\n",
       "      <th>Country</th>\n",
       "      <th>Datetime</th>\n",
       "    </tr>\n",
       "  </thead>\n",
       "  <tbody>\n",
       "    <tr>\n",
       "      <th>0</th>\n",
       "      <td>Dhārchula</td>\n",
       "      <td>29.85</td>\n",
       "      <td>80.53</td>\n",
       "      <td>60.67</td>\n",
       "      <td>42</td>\n",
       "      <td>0</td>\n",
       "      <td>4.14</td>\n",
       "      <td>IN</td>\n",
       "      <td>1602873510</td>\n",
       "    </tr>\n",
       "    <tr>\n",
       "      <th>1</th>\n",
       "      <td>Ushuaia</td>\n",
       "      <td>-54.80</td>\n",
       "      <td>-68.30</td>\n",
       "      <td>46.40</td>\n",
       "      <td>61</td>\n",
       "      <td>75</td>\n",
       "      <td>21.92</td>\n",
       "      <td>AR</td>\n",
       "      <td>1602873493</td>\n",
       "    </tr>\n",
       "    <tr>\n",
       "      <th>2</th>\n",
       "      <td>Punta Arenas</td>\n",
       "      <td>-53.15</td>\n",
       "      <td>-70.92</td>\n",
       "      <td>41.00</td>\n",
       "      <td>86</td>\n",
       "      <td>90</td>\n",
       "      <td>11.41</td>\n",
       "      <td>CL</td>\n",
       "      <td>1602873367</td>\n",
       "    </tr>\n",
       "    <tr>\n",
       "      <th>3</th>\n",
       "      <td>Albany</td>\n",
       "      <td>42.60</td>\n",
       "      <td>-73.97</td>\n",
       "      <td>50.00</td>\n",
       "      <td>77</td>\n",
       "      <td>100</td>\n",
       "      <td>3.87</td>\n",
       "      <td>US</td>\n",
       "      <td>1602873511</td>\n",
       "    </tr>\n",
       "    <tr>\n",
       "      <th>4</th>\n",
       "      <td>Bethel</td>\n",
       "      <td>41.37</td>\n",
       "      <td>-73.41</td>\n",
       "      <td>52.00</td>\n",
       "      <td>93</td>\n",
       "      <td>90</td>\n",
       "      <td>6.93</td>\n",
       "      <td>US</td>\n",
       "      <td>1602873511</td>\n",
       "    </tr>\n",
       "  </tbody>\n",
       "</table>\n",
       "</div>"
      ],
      "text/plain": [
       "           City    Lat    Lng  Max Temp  Humidity  Cloudiness  Wind Speed  \\\n",
       "0     Dhārchula  29.85  80.53     60.67        42           0        4.14   \n",
       "1       Ushuaia -54.80 -68.30     46.40        61          75       21.92   \n",
       "2  Punta Arenas -53.15 -70.92     41.00        86          90       11.41   \n",
       "3        Albany  42.60 -73.97     50.00        77         100        3.87   \n",
       "4        Bethel  41.37 -73.41     52.00        93          90        6.93   \n",
       "\n",
       "  Country    Datetime  \n",
       "0      IN  1602873510  \n",
       "1      AR  1602873493  \n",
       "2      CL  1602873367  \n",
       "3      US  1602873511  \n",
       "4      US  1602873511  "
      ]
     },
     "execution_count": 49,
     "metadata": {},
     "output_type": "execute_result"
    }
   ],
   "source": [
    "#create dataframe using our lists\n",
    "weather_df = pd.DataFrame({'City':city_name,\n",
    "                          'Lat':city_lat,\n",
    "                          'Lng':city_lng,\n",
    "                          'Max Temp':max_temp,\n",
    "                          'Humidity':humidity,\n",
    "                          'Cloudiness':cloudiness,\n",
    "                          'Wind Speed':wind_speed,\n",
    "                          'Country':country,\n",
    "                          'Datetime':date})\n",
    "weather_df.head()"
   ]
  },
  {
   "cell_type": "code",
   "execution_count": 50,
   "metadata": {},
   "outputs": [],
   "source": [
    "#export the dataframe to a csv\n",
    "weather_df.to_csv(output_data_file, index = False)"
   ]
  },
  {
   "cell_type": "code",
   "execution_count": 51,
   "metadata": {
    "scrolled": true
   },
   "outputs": [
    {
     "data": {
      "text/html": [
       "<div>\n",
       "<style scoped>\n",
       "    .dataframe tbody tr th:only-of-type {\n",
       "        vertical-align: middle;\n",
       "    }\n",
       "\n",
       "    .dataframe tbody tr th {\n",
       "        vertical-align: top;\n",
       "    }\n",
       "\n",
       "    .dataframe thead th {\n",
       "        text-align: right;\n",
       "    }\n",
       "</style>\n",
       "<table border=\"1\" class=\"dataframe\">\n",
       "  <thead>\n",
       "    <tr style=\"text-align: right;\">\n",
       "      <th></th>\n",
       "      <th>Lat</th>\n",
       "      <th>Lng</th>\n",
       "      <th>Max Temp</th>\n",
       "      <th>Humidity</th>\n",
       "      <th>Cloudiness</th>\n",
       "      <th>Wind Speed</th>\n",
       "      <th>Datetime</th>\n",
       "    </tr>\n",
       "  </thead>\n",
       "  <tbody>\n",
       "    <tr>\n",
       "      <th>count</th>\n",
       "      <td>544.000000</td>\n",
       "      <td>544.000000</td>\n",
       "      <td>544.000000</td>\n",
       "      <td>544.000000</td>\n",
       "      <td>544.000000</td>\n",
       "      <td>544.000000</td>\n",
       "      <td>5.440000e+02</td>\n",
       "    </tr>\n",
       "    <tr>\n",
       "      <th>mean</th>\n",
       "      <td>18.642151</td>\n",
       "      <td>20.350919</td>\n",
       "      <td>62.656563</td>\n",
       "      <td>70.738971</td>\n",
       "      <td>52.113971</td>\n",
       "      <td>8.280129</td>\n",
       "      <td>1.602874e+09</td>\n",
       "    </tr>\n",
       "    <tr>\n",
       "      <th>std</th>\n",
       "      <td>32.879056</td>\n",
       "      <td>89.150966</td>\n",
       "      <td>20.121286</td>\n",
       "      <td>22.280686</td>\n",
       "      <td>39.454310</td>\n",
       "      <td>5.649765</td>\n",
       "      <td>6.511444e+01</td>\n",
       "    </tr>\n",
       "    <tr>\n",
       "      <th>min</th>\n",
       "      <td>-54.800000</td>\n",
       "      <td>-175.200000</td>\n",
       "      <td>-2.070000</td>\n",
       "      <td>1.000000</td>\n",
       "      <td>0.000000</td>\n",
       "      <td>0.310000</td>\n",
       "      <td>1.602873e+09</td>\n",
       "    </tr>\n",
       "    <tr>\n",
       "      <th>25%</th>\n",
       "      <td>-8.855000</td>\n",
       "      <td>-58.935000</td>\n",
       "      <td>48.200000</td>\n",
       "      <td>60.750000</td>\n",
       "      <td>8.000000</td>\n",
       "      <td>4.380000</td>\n",
       "      <td>1.602874e+09</td>\n",
       "    </tr>\n",
       "    <tr>\n",
       "      <th>50%</th>\n",
       "      <td>21.355000</td>\n",
       "      <td>24.765000</td>\n",
       "      <td>66.200000</td>\n",
       "      <td>76.000000</td>\n",
       "      <td>55.000000</td>\n",
       "      <td>6.930000</td>\n",
       "      <td>1.602874e+09</td>\n",
       "    </tr>\n",
       "    <tr>\n",
       "      <th>75%</th>\n",
       "      <td>45.407500</td>\n",
       "      <td>100.342500</td>\n",
       "      <td>78.800000</td>\n",
       "      <td>88.000000</td>\n",
       "      <td>90.000000</td>\n",
       "      <td>11.410000</td>\n",
       "      <td>1.602874e+09</td>\n",
       "    </tr>\n",
       "    <tr>\n",
       "      <th>max</th>\n",
       "      <td>78.220000</td>\n",
       "      <td>179.320000</td>\n",
       "      <td>101.590000</td>\n",
       "      <td>100.000000</td>\n",
       "      <td>100.000000</td>\n",
       "      <td>34.610000</td>\n",
       "      <td>1.602874e+09</td>\n",
       "    </tr>\n",
       "  </tbody>\n",
       "</table>\n",
       "</div>"
      ],
      "text/plain": [
       "              Lat         Lng    Max Temp    Humidity  Cloudiness  Wind Speed  \\\n",
       "count  544.000000  544.000000  544.000000  544.000000  544.000000  544.000000   \n",
       "mean    18.642151   20.350919   62.656563   70.738971   52.113971    8.280129   \n",
       "std     32.879056   89.150966   20.121286   22.280686   39.454310    5.649765   \n",
       "min    -54.800000 -175.200000   -2.070000    1.000000    0.000000    0.310000   \n",
       "25%     -8.855000  -58.935000   48.200000   60.750000    8.000000    4.380000   \n",
       "50%     21.355000   24.765000   66.200000   76.000000   55.000000    6.930000   \n",
       "75%     45.407500  100.342500   78.800000   88.000000   90.000000   11.410000   \n",
       "max     78.220000  179.320000  101.590000  100.000000  100.000000   34.610000   \n",
       "\n",
       "           Datetime  \n",
       "count  5.440000e+02  \n",
       "mean   1.602874e+09  \n",
       "std    6.511444e+01  \n",
       "min    1.602873e+09  \n",
       "25%    1.602874e+09  \n",
       "50%    1.602874e+09  \n",
       "75%    1.602874e+09  \n",
       "max    1.602874e+09  "
      ]
     },
     "execution_count": 51,
     "metadata": {},
     "output_type": "execute_result"
    }
   ],
   "source": [
    "weather_df.describe()"
   ]
  },
  {
   "cell_type": "markdown",
   "metadata": {},
   "source": [
    "## Inspect the data and remove the cities where the humidity > 100%.\n",
    "----\n",
    "Skip this step if there are no cities that have humidity > 100%. "
   ]
  },
  {
   "cell_type": "markdown",
   "metadata": {},
   "source": [
    "The max humidity is already 100%. But I'll attempt this exercise with 90% humidity and just comment it out."
   ]
  },
  {
   "cell_type": "code",
   "execution_count": 30,
   "metadata": {},
   "outputs": [
    {
     "data": {
      "text/plain": [
       "Int64Index([  4,   9,  11,  12,  19,  25,  51,  61,  63,  64,  76,  79,  83,\n",
       "             89,  90,  97, 101, 102, 118, 122, 132, 143, 149, 159, 182, 199,\n",
       "            202, 206, 218, 221, 222, 249, 251, 259, 264, 265, 278, 282, 283,\n",
       "            288, 291, 293, 295, 296, 299, 301, 304, 312, 317, 326, 327, 340,\n",
       "            342, 343, 350, 351, 355, 356, 363, 367, 369, 371, 376, 384, 389,\n",
       "            415, 419, 430, 434, 442, 448, 450, 457, 469, 477, 483, 495, 499,\n",
       "            507, 508, 510, 512, 536, 537, 540],\n",
       "           dtype='int64')"
      ]
     },
     "execution_count": 30,
     "metadata": {},
     "output_type": "execute_result"
    }
   ],
   "source": [
    "#  Get the indices of cities that have humidity over 100%.\n",
    "\n",
    "# indices = weather_df.loc[weather_df['Humidity']>90].index\n"
   ]
  },
  {
   "cell_type": "code",
   "execution_count": 33,
   "metadata": {},
   "outputs": [
    {
     "data": {
      "text/html": [
       "<div>\n",
       "<style scoped>\n",
       "    .dataframe tbody tr th:only-of-type {\n",
       "        vertical-align: middle;\n",
       "    }\n",
       "\n",
       "    .dataframe tbody tr th {\n",
       "        vertical-align: top;\n",
       "    }\n",
       "\n",
       "    .dataframe thead th {\n",
       "        text-align: right;\n",
       "    }\n",
       "</style>\n",
       "<table border=\"1\" class=\"dataframe\">\n",
       "  <thead>\n",
       "    <tr style=\"text-align: right;\">\n",
       "      <th></th>\n",
       "      <th>Lat</th>\n",
       "      <th>Lng</th>\n",
       "      <th>Max Temp</th>\n",
       "      <th>Humidity</th>\n",
       "      <th>Cloudiness</th>\n",
       "      <th>Wind Speed</th>\n",
       "      <th>Date</th>\n",
       "    </tr>\n",
       "  </thead>\n",
       "  <tbody>\n",
       "    <tr>\n",
       "      <th>count</th>\n",
       "      <td>459.000000</td>\n",
       "      <td>459.000000</td>\n",
       "      <td>459.000000</td>\n",
       "      <td>459.000000</td>\n",
       "      <td>459.000000</td>\n",
       "      <td>459.000000</td>\n",
       "      <td>4.590000e+02</td>\n",
       "    </tr>\n",
       "    <tr>\n",
       "      <th>mean</th>\n",
       "      <td>15.227211</td>\n",
       "      <td>13.702048</td>\n",
       "      <td>292.304423</td>\n",
       "      <td>65.708061</td>\n",
       "      <td>47.520697</td>\n",
       "      <td>3.827930</td>\n",
       "      <td>1.602869e+09</td>\n",
       "    </tr>\n",
       "    <tr>\n",
       "      <th>std</th>\n",
       "      <td>31.484629</td>\n",
       "      <td>86.670924</td>\n",
       "      <td>10.522393</td>\n",
       "      <td>20.471670</td>\n",
       "      <td>37.944701</td>\n",
       "      <td>2.463765</td>\n",
       "      <td>2.183724e+02</td>\n",
       "    </tr>\n",
       "    <tr>\n",
       "      <th>min</th>\n",
       "      <td>-54.800000</td>\n",
       "      <td>-169.920000</td>\n",
       "      <td>259.260000</td>\n",
       "      <td>8.000000</td>\n",
       "      <td>0.000000</td>\n",
       "      <td>0.040000</td>\n",
       "      <td>1.602868e+09</td>\n",
       "    </tr>\n",
       "    <tr>\n",
       "      <th>25%</th>\n",
       "      <td>-9.605000</td>\n",
       "      <td>-63.315000</td>\n",
       "      <td>284.480000</td>\n",
       "      <td>54.000000</td>\n",
       "      <td>6.000000</td>\n",
       "      <td>2.100000</td>\n",
       "      <td>1.602869e+09</td>\n",
       "    </tr>\n",
       "    <tr>\n",
       "      <th>50%</th>\n",
       "      <td>17.020000</td>\n",
       "      <td>14.370000</td>\n",
       "      <td>294.820000</td>\n",
       "      <td>72.000000</td>\n",
       "      <td>40.000000</td>\n",
       "      <td>3.130000</td>\n",
       "      <td>1.602869e+09</td>\n",
       "    </tr>\n",
       "    <tr>\n",
       "      <th>75%</th>\n",
       "      <td>40.220000</td>\n",
       "      <td>82.840000</td>\n",
       "      <td>300.150000</td>\n",
       "      <td>81.000000</td>\n",
       "      <td>89.500000</td>\n",
       "      <td>5.100000</td>\n",
       "      <td>1.602869e+09</td>\n",
       "    </tr>\n",
       "    <tr>\n",
       "      <th>max</th>\n",
       "      <td>78.220000</td>\n",
       "      <td>179.320000</td>\n",
       "      <td>313.840000</td>\n",
       "      <td>90.000000</td>\n",
       "      <td>100.000000</td>\n",
       "      <td>14.310000</td>\n",
       "      <td>1.602869e+09</td>\n",
       "    </tr>\n",
       "  </tbody>\n",
       "</table>\n",
       "</div>"
      ],
      "text/plain": [
       "              Lat         Lng    Max Temp    Humidity  Cloudiness  Wind Speed  \\\n",
       "count  459.000000  459.000000  459.000000  459.000000  459.000000  459.000000   \n",
       "mean    15.227211   13.702048  292.304423   65.708061   47.520697    3.827930   \n",
       "std     31.484629   86.670924   10.522393   20.471670   37.944701    2.463765   \n",
       "min    -54.800000 -169.920000  259.260000    8.000000    0.000000    0.040000   \n",
       "25%     -9.605000  -63.315000  284.480000   54.000000    6.000000    2.100000   \n",
       "50%     17.020000   14.370000  294.820000   72.000000   40.000000    3.130000   \n",
       "75%     40.220000   82.840000  300.150000   81.000000   89.500000    5.100000   \n",
       "max     78.220000  179.320000  313.840000   90.000000  100.000000   14.310000   \n",
       "\n",
       "               Date  \n",
       "count  4.590000e+02  \n",
       "mean   1.602869e+09  \n",
       "std    2.183724e+02  \n",
       "min    1.602868e+09  \n",
       "25%    1.602869e+09  \n",
       "50%    1.602869e+09  \n",
       "75%    1.602869e+09  \n",
       "max    1.602869e+09  "
      ]
     },
     "execution_count": 33,
     "metadata": {},
     "output_type": "execute_result"
    }
   ],
   "source": [
    "# Make a new DataFrame equal to the city data to drop all humidity outliers by index.\n",
    "# Passing \"inplace=False\" will make a copy of the city_data DataFrame, which we call \"clean_city_data\".\n",
    "# clean_city_data = weather_df.drop(indices)\n",
    "# clean_city_data.describe()"
   ]
  },
  {
   "cell_type": "markdown",
   "metadata": {},
   "source": [
    "## Plotting the Data\n",
    "* Use proper labeling of the plots using plot titles (including date of analysis) and axes labels.\n",
    "* Save the plotted figures as .pngs."
   ]
  },
  {
   "cell_type": "markdown",
   "metadata": {},
   "source": [
    "## Latitude vs. Temperature Plot"
   ]
  },
  {
   "cell_type": "markdown",
   "metadata": {},
   "source": [
    "Seeing as how we're going to be plotting latitude vs other variables... might as well try to package the whole thing into a function"
   ]
  },
  {
   "cell_type": "code",
   "execution_count": 69,
   "metadata": {},
   "outputs": [],
   "source": [
    "def lat_scatter(y_axis,y_label):\n",
    "    plt.scatter(weather_df['Lat'],weather_df[y_axis],marker='.')\n",
    "    plt.title(f'Latitude vs {y_label} ({time.strftime(\"%m/%d/%y\")})') # apparently you can also use datetime but might need to import it? not too sure here\n",
    "    plt.xlabel('Latitude')\n",
    "    plt.ylabel(y_label)\n",
    "    plt.grid(True)\n",
    "    # save the plot as a png in the output data folder\n",
    "    plt.savefig(f'output_data/Latitude vs {y_label}.png')\n",
    "    plt.show()\n",
    "    "
   ]
  },
  {
   "cell_type": "code",
   "execution_count": 87,
   "metadata": {
    "scrolled": false
   },
   "outputs": [
    {
     "data": {
      "image/png": "[encoded data removed]",
      "text/plain": [
       "<Figure size 432x288 with 1 Axes>"
      ]
     },
     "metadata": {
      "needs_background": "light"
     },
     "output_type": "display_data"
    }
   ],
   "source": [
    "lat_scatter('Max Temp','Max Temperature (F)')"
   ]
  },
  {
   "cell_type": "markdown",
   "metadata": {},
   "source": [
    "I guess we can consider latitude as a means of measuring distance from the equator. The above scatter plot seems to suggest that the maximum temperature seems to drop the further a city is from an equator and vice versa. "
   ]
  },
  {
   "cell_type": "markdown",
   "metadata": {},
   "source": [
    "## Latitude vs. Humidity Plot"
   ]
  },
  {
   "cell_type": "code",
   "execution_count": 71,
   "metadata": {
    "scrolled": true
   },
   "outputs": [
    {
     "data": {
      "image/png": "[encoded data removed]",
      "text/plain": [
       "<Figure size 432x288 with 1 Axes>"
      ]
     },
     "metadata": {
      "needs_background": "light"
     },
     "output_type": "display_data"
    }
   ],
   "source": [
    "lat_scatter('Humidity','Humidity (%)')"
   ]
  },
  {
   "cell_type": "markdown",
   "metadata": {},
   "source": [
    "Just looking at the scatter plot - there does not seem to be a distinct correlation. It is interesting to note that there seem to be a lot more cities with higher humidity than lower. Maybe that can be explained with further study."
   ]
  },
  {
   "cell_type": "markdown",
   "metadata": {},
   "source": [
    "## Latitude vs. Cloudiness Plot"
   ]
  },
  {
   "cell_type": "code",
   "execution_count": 72,
   "metadata": {
    "scrolled": true
   },
   "outputs": [
    {
     "data": {
      "image/png": "[encoded data removed]",
      "text/plain": [
       "<Figure size 432x288 with 1 Axes>"
      ]
     },
     "metadata": {
      "needs_background": "light"
     },
     "output_type": "display_data"
    }
   ],
   "source": [
    "lat_scatter('Cloudiness','Cloudiness (%)')"
   ]
  },
  {
   "cell_type": "markdown",
   "metadata": {},
   "source": [
    "Just looking at the scatter plot - there does not seem to be a distinct correlation between latitude and cloudiness. It is however, worth noting that across many different latitudes, multiple cities report the same cloudiness. Perhaps the techniques or equipment used to measure cloudiness are very similar?"
   ]
  },
  {
   "cell_type": "markdown",
   "metadata": {},
   "source": [
    "## Latitude vs. Wind Speed Plot"
   ]
  },
  {
   "cell_type": "code",
   "execution_count": 73,
   "metadata": {
    "scrolled": true
   },
   "outputs": [
    {
     "data": {
      "image/png": "[encoded data removed]",
      "text/plain": [
       "<Figure size 432x288 with 1 Axes>"
      ]
     },
     "metadata": {
      "needs_background": "light"
     },
     "output_type": "display_data"
    }
   ],
   "source": [
    "lat_scatter('Wind Speed','Wind Speed (mph)')"
   ]
  },
  {
   "cell_type": "markdown",
   "metadata": {},
   "source": [
    "Again, there doesn't seem to be a distinct correlation between wind speed and latitude. I think, for this sort of study, it would be beneficial to expand the scope of the data - then we would be able to say with more certainty whether or not they truly seem to be independent. At the end of the day it is always worthwhile to see waht other data elements we could leverage to achieve a more meaningful analysis."
   ]
  },
  {
   "cell_type": "markdown",
   "metadata": {},
   "source": [
    "## Linear Regression"
   ]
  },
  {
   "cell_type": "code",
   "execution_count": 74,
   "metadata": {},
   "outputs": [],
   "source": [
    "weather_df_northern = weather_df.loc[weather_df['Lat']>=0]\n",
    "weather_df_southern = weather_df.loc[weather_df['Lat']<0] "
   ]
  },
  {
   "cell_type": "code",
   "execution_count": 77,
   "metadata": {},
   "outputs": [
    {
     "data": {
      "text/plain": [
       "count    365.000000\n",
       "mean      37.812986\n",
       "std       20.101303\n",
       "min        0.500000\n",
       "25%       20.890000\n",
       "50%       38.470000\n",
       "75%       54.350000\n",
       "max       78.220000\n",
       "Name: Lat, dtype: float64"
      ]
     },
     "execution_count": 77,
     "metadata": {},
     "output_type": "execute_result"
    }
   ],
   "source": [
    "weather_df_northern['Lat'].describe()"
   ]
  },
  {
   "cell_type": "code",
   "execution_count": 76,
   "metadata": {},
   "outputs": [
    {
     "data": {
      "text/plain": [
       "count    179.000000\n",
       "mean     -20.449218\n",
       "std       13.458326\n",
       "min      -54.800000\n",
       "25%      -32.400000\n",
       "50%      -20.410000\n",
       "75%       -8.970000\n",
       "max       -0.410000\n",
       "Name: Lat, dtype: float64"
      ]
     },
     "execution_count": 76,
     "metadata": {},
     "output_type": "execute_result"
    }
   ],
   "source": [
    "weather_df_southern['Lat'].describe()"
   ]
  },
  {
   "cell_type": "code",
   "execution_count": 86,
   "metadata": {},
   "outputs": [],
   "source": [
    "#create a function ... we can use the one from above, but I would like to save the figure after regressing\n",
    "#would also be ideal if I could specify the dataframe as one of the params unlike the first time\n",
    "def lat_reg(y_axis,y_label,hemisphere='N'):\n",
    "    if hemisphere=='N':\n",
    "        df = weather_df_northern\n",
    "    elif hemisphere=='S':\n",
    "        df = weather_df_southern        \n",
    "        \n",
    "    (slope,intercept,rvalue,pvalue,stderr) = linregress(df['Lat'],df[y_axis])\n",
    "    corr = round(rvalue,2)\n",
    "    y_values = df['Lat'] * slope + intercept\n",
    "    line_eq = f'y = {round(slope,2)}x + {round(intercept,2)}'\n",
    "    \n",
    "    print(f'The correlation is {corr}')\n",
    "\n",
    "    plt.scatter(df['Lat'],df[y_axis],marker='.')\n",
    "    plt.plot(df['Lat'],y_values,color='red')\n",
    "    plt.annotate(line_eq,(5,5),color='red')\n",
    "    # I didn't take into account that the line equation would not show up in the graphs for the southern hemisphere...\n",
    "    # If I could go back without redoing the whole thing, I would create an if function on this plt.annotate part similar to the one above\n",
    "    plt.title(f'Latitude vs {y_label} ({time.strftime(\"%m/%d/%y\")})') # apparently you can also use datetime but might need to import it? not too sure here\n",
    "    plt.xlabel('Latitude')\n",
    "    plt.ylabel(y_label)\n",
    "    plt.grid(True)\n",
    "    # save the plot as a png in the output data folder\n",
    "    plt.savefig(f'output_data/Latitude vs {y_label}_{hemisphere}.png')\n",
    "    plt.show()\n",
    "    "
   ]
  },
  {
   "cell_type": "markdown",
   "metadata": {},
   "source": [
    "####  Northern Hemisphere - Max Temp vs. Latitude Linear Regression"
   ]
  },
  {
   "cell_type": "code",
   "execution_count": 88,
   "metadata": {},
   "outputs": [
    {
     "name": "stdout",
     "output_type": "stream",
     "text": [
      "The correlation is -0.87\n"
     ]
    },
    {
     "data": {
      "image/png": "[encoded data removed]",
      "text/plain": [
       "<Figure size 432x288 with 1 Axes>"
      ]
     },
     "metadata": {
      "needs_background": "light"
     },
     "output_type": "display_data"
    }
   ],
   "source": [
    "lat_reg('Max Temp','Max Temperature (F)')"
   ]
  },
  {
   "cell_type": "markdown",
   "metadata": {},
   "source": [
    "####  Southern Hemisphere - Max Temp vs. Latitude Linear Regression"
   ]
  },
  {
   "cell_type": "code",
   "execution_count": 89,
   "metadata": {
    "scrolled": true
   },
   "outputs": [
    {
     "name": "stdout",
     "output_type": "stream",
     "text": [
      "The correlation is 0.69\n"
     ]
    },
    {
     "data": {
      "image/png": "[encoded data removed]",
      "text/plain": [
       "<Figure size 432x288 with 1 Axes>"
      ]
     },
     "metadata": {
      "needs_background": "light"
     },
     "output_type": "display_data"
    }
   ],
   "source": [
    "lat_reg('Max Temp','Max Temperature (F)','S')"
   ]
  },
  {
   "cell_type": "markdown",
   "metadata": {},
   "source": [
    "In each plot, the correlation is fairly high, supporting our guess from above that the closer a city is to the equator, the higher its temperature will be. Interestingly enough, for our sample, a linear regression line fits quite well."
   ]
  },
  {
   "cell_type": "markdown",
   "metadata": {},
   "source": [
    "####  Northern Hemisphere - Humidity (%) vs. Latitude Linear Regression"
   ]
  },
  {
   "cell_type": "code",
   "execution_count": 90,
   "metadata": {},
   "outputs": [
    {
     "name": "stdout",
     "output_type": "stream",
     "text": [
      "The correlation is 0.25\n"
     ]
    },
    {
     "data": {
      "image/png": "[encoded data removed]",
      "text/plain": [
       "<Figure size 432x288 with 1 Axes>"
      ]
     },
     "metadata": {
      "needs_background": "light"
     },
     "output_type": "display_data"
    }
   ],
   "source": [
    "lat_reg('Humidity','Humidity (%)')"
   ]
  },
  {
   "cell_type": "markdown",
   "metadata": {},
   "source": [
    "####  Southern Hemisphere - Humidity (%) vs. Latitude Linear Regression"
   ]
  },
  {
   "cell_type": "code",
   "execution_count": 91,
   "metadata": {
    "scrolled": true
   },
   "outputs": [
    {
     "name": "stdout",
     "output_type": "stream",
     "text": [
      "The correlation is -0.05\n"
     ]
    },
    {
     "data": {
      "image/png": "[encoded data removed]",
      "text/plain": [
       "<Figure size 432x288 with 1 Axes>"
      ]
     },
     "metadata": {
      "needs_background": "light"
     },
     "output_type": "display_data"
    }
   ],
   "source": [
    "lat_reg('Humidity','Humidity (%)','S')"
   ]
  },
  {
   "cell_type": "markdown",
   "metadata": {},
   "source": [
    "These plots strenghten our argument of there being no real correlation between humidity and latitude. Then again... there may be some sort of odd function that captures the distribution that we do not yet know of. (Keep in mind we're only doing a simple linear regression)"
   ]
  },
  {
   "cell_type": "markdown",
   "metadata": {},
   "source": [
    "####  Northern Hemisphere - Cloudiness (%) vs. Latitude Linear Regression"
   ]
  },
  {
   "cell_type": "code",
   "execution_count": 92,
   "metadata": {},
   "outputs": [
    {
     "name": "stdout",
     "output_type": "stream",
     "text": [
      "The correlation is 0.19\n"
     ]
    },
    {
     "data": {
      "image/png": "[encoded data removed]",
      "text/plain": [
       "<Figure size 432x288 with 1 Axes>"
      ]
     },
     "metadata": {
      "needs_background": "light"
     },
     "output_type": "display_data"
    }
   ],
   "source": [
    "lat_reg('Cloudiness','Cloudiness (%)')"
   ]
  },
  {
   "cell_type": "markdown",
   "metadata": {},
   "source": [
    "####  Southern Hemisphere - Cloudiness (%) vs. Latitude Linear Regression"
   ]
  },
  {
   "cell_type": "code",
   "execution_count": 93,
   "metadata": {
    "scrolled": true
   },
   "outputs": [
    {
     "name": "stdout",
     "output_type": "stream",
     "text": [
      "The correlation is 0.06\n"
     ]
    },
    {
     "data": {
      "image/png": "[encoded data removed]",
      "text/plain": [
       "<Figure size 432x288 with 1 Axes>"
      ]
     },
     "metadata": {
      "needs_background": "light"
     },
     "output_type": "display_data"
    }
   ],
   "source": [
    "lat_reg('Cloudiness','Cloudiness (%)','S')"
   ]
  },
  {
   "cell_type": "markdown",
   "metadata": {},
   "source": [
    "Once again, it seems that there is almost no linear relationship between latitude and cloudiness. These should be pretty obvious at a glance of the first scatter plots we did."
   ]
  },
  {
   "cell_type": "markdown",
   "metadata": {},
   "source": [
    "####  Northern Hemisphere - Wind Speed (mph) vs. Latitude Linear Regression"
   ]
  },
  {
   "cell_type": "code",
   "execution_count": 94,
   "metadata": {},
   "outputs": [
    {
     "name": "stdout",
     "output_type": "stream",
     "text": [
      "The correlation is 0.16\n"
     ]
    },
    {
     "data": {
      "image/png": "[encoded data removed]",
      "text/plain": [
       "<Figure size 432x288 with 1 Axes>"
      ]
     },
     "metadata": {
      "needs_background": "light"
     },
     "output_type": "display_data"
    }
   ],
   "source": [
    "lat_reg('Wind Speed','Wind Speed (mph)')"
   ]
  },
  {
   "cell_type": "markdown",
   "metadata": {},
   "source": [
    "####  Southern Hemisphere - Wind Speed (mph) vs. Latitude Linear Regression"
   ]
  },
  {
   "cell_type": "code",
   "execution_count": 95,
   "metadata": {},
   "outputs": [
    {
     "name": "stdout",
     "output_type": "stream",
     "text": [
      "The correlation is -0.11\n"
     ]
    },
    {
     "data": {
      "image/png": "[encoded data removed]",
      "text/plain": [
       "<Figure size 432x288 with 1 Axes>"
      ]
     },
     "metadata": {
      "needs_background": "light"
     },
     "output_type": "display_data"
    }
   ],
   "source": [
    "lat_reg('Wind Speed','Wind Speed (mph)','S')"
   ]
  },
  {
   "cell_type": "markdown",
   "metadata": {},
   "source": [
    "Interestingly enough, these are almost just as uncorellated as the previous two sets of comparisons. At a glace, it is not intuitively obvious since the points appear to be much more densely packed together."
   ]
  }
 ],
 "metadata": {
  "anaconda-cloud": {},
  "kernel_info": {
   "name": "python3"
  },
  "kernelspec": {
   "display_name": "Python 3",
   "language": "python",
   "name": "python3"
  },
  "language_info": {
   "codemirror_mode": {
    "name": "ipython",
    "version": 3
   },
   "file_extension": ".py",
   "mimetype": "text/x-python",
   "name": "python",
   "nbconvert_exporter": "python",
   "pygments_lexer": "ipython3",
   "version": "3.8.3"
  },
  "latex_envs": {
   "LaTeX_envs_menu_present": true,
   "autoclose": false,
   "autocomplete": true,
   "bibliofile": "biblio.bib",
   "cite_by": "apalike",
   "current_citInitial": 1,
   "eqLabelWithNumbers": true,
   "eqNumInitial": 1,
   "hotkeys": {
    "equation": "Ctrl-E",
    "itemize": "Ctrl-I"
   },
   "labels_anchors": false,
   "latex_user_defs": false,
   "report_style_numbering": false,
   "user_envs_cfg": false
  },
  "nteract": {
   "version": "0.12.3"
  }
 },
 "nbformat": 4,
 "nbformat_minor": 2
}
